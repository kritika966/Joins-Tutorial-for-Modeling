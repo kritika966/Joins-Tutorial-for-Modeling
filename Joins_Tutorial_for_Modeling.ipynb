{
 "cells": [
  {
   "cell_type": "markdown",
   "id": "6483e83b",
   "metadata": {},
   "source": [
    "# How to Join Datasets for Modeling (and Problems to Avoid)"
   ]
  },
  {
   "cell_type": "markdown",
   "id": "11df63b8",
   "metadata": {},
   "source": [
    "**In real-world ML tasks:**\n",
    "\n",
    "- Data often comes in multiple tables.\n",
    "\n",
    "- You need to join them to create one modeling dataset.\n",
    "\n",
    "**If you join incorrectly:**\n",
    "\n",
    "- You might introduce duplicate rows.\n",
    "\n",
    "- You can cause data leakage (future info leaks into training).\n",
    "\n",
    "- You can break the 1 row per instance assumption required by most ML algorithms.\n",
    "\n",
    "This tutorial will teach you how to join datasets safely using pandas in Python — a key skill for any ML/Data Science project."
   ]
  },
  {
   "cell_type": "markdown",
   "id": "2952c273",
   "metadata": {},
   "source": [
    "# Types of Joins\n",
    "\n",
    "| Type of Join | Meaning                                                                         | Use Case                                         |\n",
    "| ------------ | ------------------------------------------------------------------------------- | ------------------------------------------------ |\n",
    "| INNER JOIN   | Only keep rows with matching keys in both tables                                | You only want clients with bureau history        |\n",
    "| LEFT JOIN    | Keep all rows from **left table**, add data from right table (NULL if no match) | You want to keep all clients and add bureau info |\n",
    "| RIGHT JOIN   | Keep all rows from **right table**, add data from left table                    | Less common in ML tasks                          |\n",
    "| FULL JOIN    | Keep all rows from both tables                                                  | Rare for ML tasks                                |\n",
    "\n",
    "In ML, we usually use:\n",
    "\n",
    "LEFT JOIN → Safe when you want to keep all original instances.\n",
    "\n",
    "INNER JOIN → Risky, can remove rows (sometimes useful but must be intentional)."
   ]
  },
  {
   "cell_type": "markdown",
   "id": "d93155cc",
   "metadata": {},
   "source": [
    "#  Dataset Overview — Home Credit Default Risk\n",
    "\n",
    "\n",
    "**Why this dataset?**\n",
    "\n",
    "- Real-world like: multiple related tables\n",
    "- Designed for tabular ML modeling → good learning case\n",
    "- Main modeling table: application_train.csv\n",
    "- Several \"child tables\": previous loans, credit cards, bureau, POS loans, etc.\n",
    "\n",
    "**Useful for demonstrating:**\n",
    "\n",
    "- Multi-table joining\n",
    "\n",
    "- Aggregation before joining\n",
    "\n",
    "- Mutating join problems\n",
    "\n",
    "| Table                   | Primary Key                  | Comment                                              |\n",
    "| ----------------------- | ---------------------------- | ---------------------------------------------------- |\n",
    "| `application_train.csv` | `SK_ID_CURR` (client ID)     | Main modeling table                                  |\n",
    "| `bureau.csv`            | `SK_ID_CURR`, `SK_ID_BUREAU` | Client’s bureau credit history, many rows per client |\n",
    "\n",
    "This is a **1-to-many** relationship:\n",
    "\n",
    "- application_train → 1 row per client\n",
    "- bureau → multiple rows per client"
   ]
  },
  {
   "cell_type": "markdown",
   "id": "22fe028a",
   "metadata": {},
   "source": [
    "# Mutating Join Problem Explained"
   ]
  },
  {
   "cell_type": "code",
   "execution_count": 1,
   "id": "0aa9e1cb",
   "metadata": {},
   "outputs": [],
   "source": [
    "# BAD example — naive join (just to show)\n",
    "# df_bad = application_train.merge(bureau, on='SK_ID_CURR', how='left')"
   ]
  },
  {
   "cell_type": "markdown",
   "id": "99101d4d",
   "metadata": {},
   "source": [
    "In this case, each client with multiple bureau records appears multiple times\n",
    "- Row count of df_bad > row count of application_train\n",
    "- ML model is now broken: training instances are not independent\n",
    "\n",
    "This is called a **mutating join:**\n",
    "\n",
    "- You change the number of rows.\n",
    "\n",
    "- You \"inflate\" data incorrectly."
   ]
  },
  {
   "cell_type": "markdown",
   "id": "6e6c5a72",
   "metadata": {},
   "source": [
    "# Correct Pattern to Handle This\n",
    "\n",
    "**Solution:**\n",
    "\n",
    "Step 1:  Aggregate child table FIRST → 1 row per client\n",
    "\n",
    "Step 2: Then LEFT JOIN the aggregate back → no row count change"
   ]
  },
  {
   "cell_type": "markdown",
   "id": "3b723e00",
   "metadata": {},
   "source": [
    "# Import and Load data"
   ]
  },
  {
   "cell_type": "code",
   "execution_count": 2,
   "id": "37f17534",
   "metadata": {},
   "outputs": [
    {
     "name": "stdout",
     "output_type": "stream",
     "text": [
      "Application train shape: (307511, 122)\n",
      "Bureau shape: (1716428, 17)\n"
     ]
    }
   ],
   "source": [
    "import pandas as pd\n",
    "\n",
    "# Load main table\n",
    "application_train = pd.read_csv('application_train.csv')\n",
    "\n",
    "# Load bureau table\n",
    "bureau = pd.read_csv('bureau.csv')\n",
    "\n",
    "print(f\"Application train shape: {application_train.shape}\")\n",
    "print(f\"Bureau shape: {bureau.shape}\")\n"
   ]
  },
  {
   "cell_type": "code",
   "execution_count": 3,
   "id": "5b3b8761",
   "metadata": {},
   "outputs": [
    {
     "name": "stdout",
     "output_type": "stream",
     "text": [
      "307511\n",
      "305811\n"
     ]
    }
   ],
   "source": [
    "print(application_train['SK_ID_CURR'].nunique())  # number of clients\n",
    "print(bureau['SK_ID_CURR'].nunique())             # number of clients in bureau table"
   ]
  },
  {
   "cell_type": "markdown",
   "id": "e6ded38b",
   "metadata": {},
   "source": [
    "# Bad Join Example -  Mutating Join\n"
   ]
  },
  {
   "cell_type": "code",
   "execution_count": 4,
   "id": "87bd57bb",
   "metadata": {},
   "outputs": [
    {
     "name": "stdout",
     "output_type": "stream",
     "text": [
      "BAD join shape: (1509345, 138)\n"
     ]
    }
   ],
   "source": [
    "# Demonstrate BAD join\n",
    "df_bad = application_train.merge(bureau, on='SK_ID_CURR', how='left')\n",
    "print(f\"BAD join shape: {df_bad.shape}\")  # Will be much larger than application_train"
   ]
  },
  {
   "cell_type": "markdown",
   "id": "e4f5a3d5",
   "metadata": {},
   "source": [
    "# Correct Pattern - Aggregation before Join"
   ]
  },
  {
   "cell_type": "code",
   "execution_count": 5,
   "id": "d922e3fc",
   "metadata": {},
   "outputs": [
    {
     "name": "stdout",
     "output_type": "stream",
     "text": [
      "Bureau agg shape: (305811, 7)\n"
     ]
    }
   ],
   "source": [
    "# Aggregate bureau features per client\n",
    "bureau_agg = bureau.groupby('SK_ID_CURR').agg({\n",
    "    'AMT_CREDIT_SUM': ['mean', 'max'],\n",
    "    'AMT_CREDIT_SUM_DEBT': ['mean', 'max'],\n",
    "    'CREDIT_DAY_OVERDUE': ['max'],\n",
    "    'SK_ID_BUREAU': 'count'  # number of bureau records per client\n",
    "})\n",
    "\n",
    "# Flatten columns\n",
    "bureau_agg.columns = ['BUREAU_' + '_'.join(col).strip() for col in bureau_agg.columns.values]\n",
    "\n",
    "# Reset index to prepare for join\n",
    "bureau_agg = bureau_agg.reset_index()\n",
    "\n",
    "print(f\"Bureau agg shape: {bureau_agg.shape}\")\n"
   ]
  },
  {
   "cell_type": "markdown",
   "id": "22ce636b",
   "metadata": {},
   "source": [
    "## Now perform correct join\n"
   ]
  },
  {
   "cell_type": "code",
   "execution_count": 6,
   "id": "1c0692cf",
   "metadata": {},
   "outputs": [
    {
     "name": "stdout",
     "output_type": "stream",
     "text": [
      "Final modeling dataset shape: (307511, 128)\n"
     ]
    }
   ],
   "source": [
    "# Good join: application_train + bureau_agg\n",
    "df_model = application_train.merge(bureau_agg, on='SK_ID_CURR', how='left')\n",
    "\n",
    "print(f\"Final modeling dataset shape: {df_model.shape}\")\n"
   ]
  },
  {
   "cell_type": "markdown",
   "id": "a8df92bc",
   "metadata": {},
   "source": [
    "- Row count preserved → same as application_train\n",
    "- No duplicate rows\n",
    "- Suitable for modeling"
   ]
  },
  {
   "cell_type": "markdown",
   "id": "bc05cbfb",
   "metadata": {},
   "source": [
    "# Summary & Key Takeaways\n",
    "\n",
    "**When to Use Which Join in ML?**\n",
    "\n",
    "- You want to keep all training instances and enrich with new features → LEFT JOIN\t\n",
    "- You only want instances with matching records → INNER JOIN (but be careful)\t\n",
    "- You need full outer info → FULL JOIN (rare)                               |                  |\n",
    "\n",
    "\n",
    "**Mutating Join — Key Problem**\n",
    "\n",
    "If you join a child table without aggregation, you will:\n",
    "\n",
    "- Duplicate rows → breaks ML assumptions.\n",
    "\n",
    "- Change class distribution → can cause target leakage.\n",
    "\n",
    "Always aggregate child tables first, then join.\n",
    "\n",
    "**Our Case:**\n",
    "Chose **application_train.csv** + **bureau.csv** because it's a 1-many example → perfect to teach aggregation and safe joins.\n",
    "\n",
    "We used **LEFT JOIN** to preserve all clients.\n",
    "\n",
    "We demonstrated **mutating join risk** and solved it."
   ]
  },
  {
   "cell_type": "markdown",
   "id": "d80071f2",
   "metadata": {},
   "source": [
    "#  Final Notes for Your Students\n",
    "\n",
    "When preparing data for ML:\n",
    "\n",
    "- Think about row cardinality\n",
    "- Be careful with 1-many joins\n",
    "- Prefer LEFT JOIN when enriching data\n",
    "- Always check row counts before and after join → sanity check\n",
    "- Aggregate child tables first → this is a safe and common pattern!"
   ]
  },
  {
   "cell_type": "code",
   "execution_count": 7,
   "id": "75e21a7e",
   "metadata": {},
   "outputs": [
    {
     "name": "stdout",
     "output_type": "stream",
     "text": [
      "Row count before join: 307511\n",
      "Row count after safe join: 307511\n"
     ]
    }
   ],
   "source": [
    "# Sanity Check\n",
    "print(\"Row count before join:\", application_train.shape[0])\n",
    "print(\"Row count after safe join:\", df_model.shape[0])"
   ]
  },
  {
   "cell_type": "markdown",
   "id": "5fc9e3cb",
   "metadata": {},
   "source": [
    " If both match → you did it right!"
   ]
  },
  {
   "cell_type": "markdown",
   "id": "dee42695",
   "metadata": {},
   "source": [
    "# Why This Matters in Real ML Work\n",
    "\n",
    "In Machine Learning:\n",
    "\n",
    "- 1-many relationships are everywhere: transaction history, logs, clickstream, credit history, etc.\n",
    "\n",
    "- Safe joining is an essential skill → prevents data leakage and model corruption.\n",
    "\n",
    "- If you blindly join tables → you'll get bad models and possibly wrong business decisions."
   ]
  }
 ],
 "metadata": {
  "kernelspec": {
   "display_name": "Python 3 (ipykernel)",
   "language": "python",
   "name": "python3"
  },
  "language_info": {
   "codemirror_mode": {
    "name": "ipython",
    "version": 3
   },
   "file_extension": ".py",
   "mimetype": "text/x-python",
   "name": "python",
   "nbconvert_exporter": "python",
   "pygments_lexer": "ipython3",
   "version": "3.12.3"
  },
  "toc": {
   "base_numbering": 1,
   "nav_menu": {},
   "number_sections": true,
   "sideBar": true,
   "skip_h1_title": false,
   "title_cell": "Table of Contents",
   "title_sidebar": "Contents",
   "toc_cell": false,
   "toc_position": {},
   "toc_section_display": true,
   "toc_window_display": false
  },
  "varInspector": {
   "cols": {
    "lenName": 16,
    "lenType": 16,
    "lenVar": 40
   },
   "kernels_config": {
    "python": {
     "delete_cmd_postfix": "",
     "delete_cmd_prefix": "del ",
     "library": "var_list.py",
     "varRefreshCmd": "print(var_dic_list())"
    },
    "r": {
     "delete_cmd_postfix": ") ",
     "delete_cmd_prefix": "rm(",
     "library": "var_list.r",
     "varRefreshCmd": "cat(var_dic_list()) "
    }
   },
   "types_to_exclude": [
    "module",
    "function",
    "builtin_function_or_method",
    "instance",
    "_Feature"
   ],
   "window_display": false
  }
 },
 "nbformat": 4,
 "nbformat_minor": 5
}
